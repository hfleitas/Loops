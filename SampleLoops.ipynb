{
    "metadata": {
        "kernelspec": {
            "name": "SQL",
            "display_name": "SQL",
            "language": "sql"
        },
        "language_info": {
            "name": "sql",
            "version": ""
        }
    },
    "nbformat_minor": 2,
    "nbformat": 4,
    "cells": [
        {
            "cell_type": "markdown",
            "source": "## Sample Loops \r\n### Do not run this! These are just samples you can repurpose.\r\n### T-SQL, PowerShell",
            "metadata": {}
        },
        {
            "cell_type": "code",
            "source": "--SQLCMD\r\n--:setvar rpl localhost\r\n--:setvar ag AG1\r\n\r\nUSE [master]\r\ngo\r\nif exists (select 1 from sys.availability_databases_cluster inner join sys.databases on database_name = name)\r\nbegin\r\n\tdeclare @sql table (smt nvarchar(max))\r\n\tdeclare @cnt int, @smt nvarchar(max)\r\n\r\n\tinsert @sql \r\n\tselect 'ALTER AVAILABILITY GROUP [$(ag)] REMOVE DATABASE ['+name+'];' \r\n\tfrom sys.databases where database_id>4 and name not like 'dist%' and name <> 'Claims' --in ('$(dbs)')\r\n\r\n\tselect @cnt=count(*) from @sql\r\n\r\n\twhile @cnt>0\r\n\tbegin \r\n\t\tselect top 1 @smt=smt from @sql --order by smt; \r\n\t\tprint @smt; exec sp_executesql @smt\t\r\n\t\tdelete from @sql where @smt=smt\r\n\t\tset @cnt = @cnt - 1\r\n\tend\r\nend \r\ngo",
            "metadata": {},
            "outputs": [],
            "execution_count": 0
        },
        {
            "cell_type": "code",
            "source": "--all else. DONOT RUN THIS!!!\r\ndeclare @drop nvarchar(max)=null, @cnt int\r\n\r\nselect @cnt=count(*) from sys.databases where database_id >4 and name not like 'distribution%'\r\n\r\nwhile @cnt>0\r\nbegin \r\n\tselect top 1 @drop='drop database ['+name+']' from sys.databases where database_id>4 and name not like 'distribution%'\r\n\texec (@drop)\r\n\tselect @cnt=count(*) from sys.databases where database_id >4 and name not like 'distribution%'\r\nend",
            "metadata": {},
            "outputs": [],
            "execution_count": 0
        },
        {
            "cell_type": "code",
            "source": "declare @name nvarchar(max)=null, @sql nvarchar(max), @count int\r\nselect @count=count(*) from sys.databases where state <>0\r\n\r\nwhile @count>0\r\nbegin \r\n\tselect top 1 @name = name from sys.databases where state <>0\r\n\tset @sql = N'restore database ['+@name+'] with recovery'\r\n\t--print @sql; \r\n\texec sp_executesql @sql;\r\n\tselect @count=count(*) from sys.databases where state <>0\r\nend",
            "metadata": {},
            "outputs": [],
            "execution_count": 0
        },
        {
            "cell_type": "code",
            "source": "EXEC master.dbo.sp_MSforeachdb @command1 = N'\r\nif ''?'' not in (''master'',''model'',''msdb'',''tempdb'',''distribution'',''distribution1'',''distribution2'',''SomeReadonlyDB'',''Skippa'') \r\nbegin \r\n\texec ?.dbo.sp_changedbowner @loginame = sa, @map = false \r\nend'\r\ngo",
            "metadata": {},
            "outputs": [],
            "execution_count": 0
        },
        {
            "cell_type": "markdown",
            "source": "PowerShell",
            "metadata": {}
        },
        {
            "cell_type": "code",
            "source": "%powershell.exe\r\n$Src = 'oldserver'\r\n$Dst = 'newserver1','newserver2'\r\nforeach ($d in $Dst)\r\n{\r\n    Start-DbaMigration -Source $Src -Destination $d  -DisableJobsOnDestination -Exclude Databases -Force\r\n    Copy-DbaDatabaseMail -Source $Src -Destination $d -force\r\n\tCopy-DbaAgentOperator -Source $Src -Destination $d -force\r\n\tCopy-DbaAgentAlert -Source $Src -Destination $d -force\r\n\tCopy-DbaLogin -Source $Src -Destination $d -force\r\n\tCopy-DbaLinkedServer -Source $Src -Destination $d -force\r\n    Copy-DbaExtendedEvent -Source $Src -Destination $d -force\r\n    Copy-DbaAgentJob -Source $Src -Destination $d -DisableOnDestination -Force |ft -AutoSize\r\n    Copy-DbaServerAudit -Source $Src -Destination $d -force\r\n    Copy-DbaServerAuditSpecification -Source $Src -Destination $d -force\r\n}",
            "metadata": {},
            "outputs": [],
            "execution_count": 0
        }
    ]
}