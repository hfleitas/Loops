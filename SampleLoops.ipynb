{
    "metadata": {
        "kernelspec": {
            "name": "SQL",
            "display_name": "SQL",
            "language": "sql"
        },
        "language_info": {
            "name": "sql",
            "version": ""
        }
    },
    "nbformat_minor": 2,
    "nbformat": 4,
    "cells": [
        {
            "cell_type": "markdown",
            "source": "## Sample Loops \r\n### Do not run this! These are just samples you can repurpose.\r\n### T-SQL, PowerShell",
            "metadata": {}
        },
        {
            "cell_type": "code",
            "source": "--SQLCMD\r\n--:setvar rpl localhost\r\n--:setvar ag AG1\r\n\r\nUSE [master]\r\ngo\r\nif exists (select 1 from sys.availability_databases_cluster inner join sys.databases on database_name = name)\r\nbegin\r\n\tdeclare @sql table (smt nvarchar(max))\r\n\tdeclare @cnt int, @smt nvarchar(max)\r\n\r\n\tinsert @sql \r\n\tselect 'ALTER AVAILABILITY GROUP [$(ag)] REMOVE DATABASE ['+name+'];' \r\n\tfrom sys.databases where database_id>4 and name not like 'dist%' and name <> 'Claims' --in ('$(dbs)')\r\n\r\n\tselect @cnt=count(*) from @sql\r\n\r\n\twhile @cnt>0\r\n\tbegin \r\n\t\tselect top 1 @smt=smt from @sql --order by smt; \r\n\t\tprint @smt; exec sp_executesql @smt\t\r\n\t\tdelete from @sql where @smt=smt\r\n\t\tset @cnt = @cnt - 1\r\n\tend\r\nend \r\ngo",
            "metadata": {},
            "outputs": [],
            "execution_count": 0
        },
        {
            "cell_type": "code",
            "source": "--all else. DONOT RUN THIS!!!\r\ndeclare @drop nvarchar(max)=null, @cnt int\r\n\r\nselect @cnt=count(*) from sys.databases where database_id >4 and name not like 'distribution%'\r\n\r\nwhile @cnt>0\r\nbegin \r\n\tselect top 1 @drop='drop database ['+name+']' from sys.databases where database_id>4 and name not like 'distribution%'\r\n\texec (@drop)\r\n\tselect @cnt=count(*) from sys.databases where database_id >4 and name not like 'distribution%'\r\nend",
            "metadata": {},
            "outputs": [],
            "execution_count": 0
        },
        {
            "cell_type": "code",
            "source": "declare @name nvarchar(max)=null, @sql nvarchar(max), @count int\r\nselect @count=count(*) from sys.databases where state <>0\r\n\r\nwhile @count>0\r\nbegin \r\n\tselect top 1 @name = name from sys.databases where state <>0\r\n\tset @sql = N'restore database ['+@name+'] with recovery'\r\n\t--print @sql; \r\n\texec sp_executesql @sql;\r\n\tselect @count=count(*) from sys.databases where state <>0\r\nend",
            "metadata": {},
            "outputs": [],
            "execution_count": 0
        },
        {
            "cell_type": "code",
            "source": "--set owner\r\nEXEC master.dbo.sp_MSforeachdb @command1 = N'\r\nif ''?'' not in (''master'',''model'',''msdb'',''tempdb'',''distribution'',''distribution1'',''distribution2'',''SomeReadonlyDB'',''Skippa'') \r\nbegin \r\n\texec ?.dbo.sp_changedbowner @loginame = sa, @map = false \r\nend'\r\ngo\r\n\r\n--shrink log\r\nif exists (select 1 from sys.databases where log_reuse_wait_desc = 'LOG_BACKUP' and database_id>4 and name not like 'dist%')\r\nbegin \r\n\texec msdb.dbo.sp_start_job 'Backup.TLogs'\r\n\twaitfor delay '00:00:30'\r\nend\r\ngo\r\nEXEC master.dbo.sp_MSforeachdb @command1 = 'exec (''USE ['' +''?''+ '']; IF DB_id(''''?'''')>4 BEGIN dbcc shrinkfile(2,1024) END'')';\r\ngo",
            "metadata": {},
            "outputs": [],
            "execution_count": 0
        },
        {
            "cell_type": "code",
            "source": "set nocount on;\r\n\r\ndeclare @p int\r\nSELECT @p=count(*) FROM sys.dm_exec_requests r CROSS APPLY sys.dm_exec_sql_text(r.sql_handle) a WHERE r.command like 'RESTORE%'\r\n\r\nwhile @p > 0\r\nbegin \r\n\twaitfor delay '00:05:00' --5 minutes\r\n\tSELECT @p=count(*) FROM sys.dm_exec_requests r CROSS APPLY sys.dm_exec_sql_text(r.sql_handle) a WHERE r.command like 'RESTORE%'\r\nend\r\ngo",
            "metadata": {},
            "outputs": [],
            "execution_count": 0
        },
        {
            "cell_type": "code",
            "source": "--POST SSRS MIGRATION COPY\r\n--DISABLE SSRS SUBSCRIPTION SQL JOBS\r\n--4DisableSSRSSubscriptions.sql\r\n\r\nUSE msdb\r\nGO\r\nDECLARE @name sysname, @SQL NVARCHAR(MAX), @Count int\r\n\r\nSELECT NAME [Enabled] FROM SYSJOBS J WHERE ENABLED=1 AND LEN(NAME)=36 ORDER  BY 1\r\nSELECT @COUNT = COUNT(*) FROM SYSJOBS WHERE ENABLED=1 AND LEN(NAME)=36 --67\r\n\r\nWHILE @Count > 0\r\n\tBEGIN\r\n\t\tSELECT TOP 1 @name = name FROM SYSJOBS WHERE ENABLED=1 AND LEN(NAME)=36 --67\r\n\t\tSET @SQL = 'EXEC msdb.dbo.sp_update_job  @job_name = '''+@name+''', @enabled = 0 ;'\r\n\t\tEXEC sp_executesql @SQL; PRINT @SQL;\r\n\t\tSELECT @Count = Count(*) FROM SYSJOBS WHERE ENABLED=1 AND LEN(NAME)=36 --67\r\n\tEND\r\n\r\nSELECT NAME [Enabled] FROM SYSJOBS J WHERE ENABLED=0 AND LEN(NAME)=36  ORDER  BY 1\r\ngo\r\n\r\nUSE MSDB;\r\nGO\r\nUPDATE MSDB.dbo.sysjobs SET Enabled = 0 WHERE len(name)=36;",
            "metadata": {},
            "outputs": [],
            "execution_count": 0
        },
        {
            "cell_type": "code",
            "source": ":connect targethost\r\n:setvar CHG  \"228-2\"\r\n:setvar DISK \"\"\r\n:setvar Database \"RockOn\"\r\n\r\n--  +--------+\r\n--  | Backup |\r\n--  +--------+\r\nset nocount on\r\nuse tempdb\r\ngo\r\ndeclare @DB sysname, @SQL nvarchar(max), @Count int, @chg nvarchar(10), @timestamp nvarchar(25), @LastPath nvarchar(520)\r\nset @chg = '$(CHG)' \r\nset @LastPath = '$(DISK)'\r\n\r\nselect @timestamp = replace(replace(replace(replace(convert(nvarchar(25), getdate(), 121),'-',''),':',''),'.',''),' ','_');\r\n\r\nif ISNULL(@LastPath,'') = ''\r\nbegin\r\n\tselect top 1 @LastPath=substring(bmf.physical_device_name,1,charindex('_backup',bmf.physical_device_name,0))\r\n\tfrom   \t\tmsdb.dbo.backupmediafamily as bmf\r\n\tinner join \tmsdb.dbo.backupset as bs on bmf.media_set_id = bs.media_set_id  \r\n\twhere  \t\tbs.type = 'D' and bs.database_name in ('$(Database)')\r\n\torder by \tbackup_start_date desc;\r\nend;\r\n\r\nif object_id('Tempdb..#dbs') is not null drop table #dbs;\r\nselect name into #dbs from sys.databases where name in ('$(Database)') --and database_id > 4\r\n\r\nselect @Count = count(*) from #dbs;\r\n\r\nwhile @Count > 0\r\n\tbegin\r\n\t\tselect top 1 @DB = name FROM #dbs\r\n\t\t--set @DB = 'RockOn' --remove.\r\n\t\tset @SQL = 'backup database ['+@DB+'] to disk = '''+@LastPath+@DB+'_backup_'+@timestamp+'_pre'+@chg+'.bak'' \r\n\t\t\twith noformat, noinit, skip, norewind, nounload, compression\r\n\t\t\t, encryption(algorithm = AES_256, server certificate = [BackupCertPK])\r\n\t\t\t, stats = 25;'\r\n\t\texec sp_executesql @SQL; print @SQL;\r\n\t\tdelete from #dbs --where name = @DB; --uncomment\r\n\t\tselect @Count = Count(*) from #dbs;\r\n\tend\r\nif object_id('Tempdb..#dbs') is not null drop table #dbs;\r\ngo\r\n/*\r\n--  +-------------------+\r\n--  | RESTORE / REPLACE |\r\n--  +-------------------+\r\nset nocount on;\r\ndeclare @kill nvarchar(max) = '', @LastPath nvarchar(520), @chg\r\nset @chg = '$(CHG)' \r\nset @LastPath = '$(DISK)'\r\n\r\nif exists (select 1 from sys.dm_exec_sessions where database_id  = db_id('$(Database)'))\r\nbegin\r\n\tselect \t@kill = @kill + 'KILL ' + convert(varchar(5), session_id) + ';'\r\n\tfrom\tsys.dm_exec_sessions\r\n\twhere \tdatabase_id  = db_id('$(Database)')\r\n\r\n\texec sp_executesql @kill;\r\nend\r\ngo\r\n\r\nif db_id(N'$(Database)') is not null\r\nbegin \r\n\talter database [$(Database)] set single_user with rollback immediate;\r\n\tdrop database [$(Database)] end\r\nelse begin\r\n\trestore database [$(Database)] from disk = 'C:\\Deployments\\RockOn.bak' with replace, file = 1,  \r\n\tmove N'RockOn' to N'C:\\Program Files\\Microsoft SQL Server\\MSSQL13.MSSQLSERVER\\MSSQL\\DATA\\RockOn.mdf', \r\n\tmove N'RockOn_log' to N'C:\\Program Files\\Microsoft SQL Server\\MSSQL13.MSSQLSERVER\\MSSQL\\DATA\\RockOn_log.ldf',  \r\n\tnounload, stats = 25\r\ngo\r\n*/",
            "metadata": {},
            "outputs": [],
            "execution_count": 0
        },
        {
            "cell_type": "markdown",
            "source": "PowerShell",
            "metadata": {}
        },
        {
            "cell_type": "code",
            "source": "!powershell.exe\r\n$Src = 'oldserver'\r\n$Dst = 'newserver1','newserver2'\r\nforeach ($d in $Dst)\r\n{\r\n    Start-DbaMigration -Source $Src -Destination $d  -DisableJobsOnDestination -Exclude Databases -Force\r\n    Copy-DbaDatabaseMail -Source $Src -Destination $d -force\r\n\tCopy-DbaAgentOperator -Source $Src -Destination $d -force\r\n\tCopy-DbaAgentAlert -Source $Src -Destination $d -force\r\n\tCopy-DbaLogin -Source $Src -Destination $d -force\r\n\tCopy-DbaLinkedServer -Source $Src -Destination $d -force\r\n    Copy-DbaExtendedEvent -Source $Src -Destination $d -force\r\n    Copy-DbaAgentJob -Source $Src -Destination $d -DisableOnDestination -Force |ft -AutoSize\r\n    Copy-DbaServerAudit -Source $Src -Destination $d -force\r\n    Copy-DbaServerAuditSpecification -Source $Src -Destination $d -force\r\n}",
            "metadata": {},
            "outputs": [],
            "execution_count": 0
        }
    ]
}